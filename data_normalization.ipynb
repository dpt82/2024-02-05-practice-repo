{
 "cells": [
  {
   "cell_type": "code",
   "execution_count": 6,
   "id": "15c25b62",
   "metadata": {},
   "outputs": [],
   "source": [
    "#setting population variables\n",
    "chicago_pop = 2_705_000\n",
    "los_angeles_pop = 3_976_000\n",
    "nyc_pop = 8_538_000\n",
    "san_jose_pop = 1_025_000"
   ]
  },
  {
   "cell_type": "code",
   "execution_count": 8,
   "id": "d7ba4409",
   "metadata": {},
   "outputs": [],
   "source": [
    "#setting murder variables\n",
    "chicago_murders = 762\n",
    "los_angeles_murders = 294\n",
    "nyc_murders = 334\n",
    "san_jose_murders = 47"
   ]
  },
  {
   "cell_type": "code",
   "execution_count": 17,
   "id": "7216e5f0",
   "metadata": {},
   "outputs": [],
   "source": [
    "chicago_rate = (chicago_murders / chicago_pop) * 100_000\n",
    "los_angeles_rate = (los_angeles_murders / los_angeles_pop) * 100_000\n",
    "nyc_rate = (nyc_murders / nyc_pop) * 100_000\n",
    "san_jose_rate = (san_jose_murders / san_jose_pop) * 100_000"
   ]
  },
  {
   "cell_type": "code",
   "execution_count": 24,
   "id": "5fe136cf",
   "metadata": {},
   "outputs": [
    {
     "data": {
      "text/plain": [
       "28.170055452865068"
      ]
     },
     "execution_count": 24,
     "metadata": {},
     "output_type": "execute_result"
    }
   ],
   "source": [
    "chicago_rate"
   ]
  },
  {
   "cell_type": "code",
   "execution_count": 25,
   "id": "755eb64b",
   "metadata": {},
   "outputs": [
    {
     "data": {
      "text/plain": [
       "7.394366197183098"
      ]
     },
     "execution_count": 25,
     "metadata": {},
     "output_type": "execute_result"
    }
   ],
   "source": [
    "los_angeles_rate"
   ]
  },
  {
   "cell_type": "code",
   "execution_count": 26,
   "id": "238c61b6",
   "metadata": {},
   "outputs": [
    {
     "data": {
      "text/plain": [
       "3.911923167018037"
      ]
     },
     "execution_count": 26,
     "metadata": {},
     "output_type": "execute_result"
    }
   ],
   "source": [
    "nyc_rate"
   ]
  },
  {
   "cell_type": "code",
   "execution_count": 27,
   "id": "1693293a",
   "metadata": {},
   "outputs": [
    {
     "data": {
      "text/plain": [
       "4.585365853658536"
      ]
     },
     "execution_count": 27,
     "metadata": {},
     "output_type": "execute_result"
    }
   ],
   "source": [
    "san_jose_rate"
   ]
  },
  {
   "cell_type": "code",
   "execution_count": 31,
   "id": "58c880b8",
   "metadata": {},
   "outputs": [
    {
     "name": "stdout",
     "output_type": "stream",
     "text": [
      "Chicago has the highest per capita murder rate of 28% per 100,000 and San Jose has the lowest per capita murder rate at 4.5%\n"
     ]
    }
   ],
   "source": [
    "print(f\"Chicago has the highest per capita murder rate of 28% per 100,000 and San Jose has the lowest per capita murder rate at 4.5%\")"
   ]
  },
  {
   "cell_type": "code",
   "execution_count": null,
   "id": "9d2ad7e0",
   "metadata": {},
   "outputs": [],
   "source": []
  }
 ],
 "metadata": {
  "kernelspec": {
   "display_name": "Python 3 (ipykernel)",
   "language": "python",
   "name": "python3"
  },
  "language_info": {
   "codemirror_mode": {
    "name": "ipython",
    "version": 3
   },
   "file_extension": ".py",
   "mimetype": "text/x-python",
   "name": "python",
   "nbconvert_exporter": "python",
   "pygments_lexer": "ipython3",
   "version": "3.11.5"
  }
 },
 "nbformat": 4,
 "nbformat_minor": 5
}
